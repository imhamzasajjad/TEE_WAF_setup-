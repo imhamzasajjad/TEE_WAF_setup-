{
 "cells": [
  {
   "cell_type": "code",
   "execution_count": 1,
   "metadata": {},
   "outputs": [
    {
     "name": "stderr",
     "output_type": "stream",
     "text": [
      "Using TensorFlow backend.\n"
     ]
    }
   ],
   "source": [
    "%matplotlib inline\n",
    "import matplotlib\n",
    "import matplotlib.pyplot as plt\n",
    "from IPython.display import clear_output\n",
    "import keras\n",
    "import numpy as np\n",
    "import pandas as pd\n",
    "import h5py\n",
    "\n",
    "from keras.models import Sequential\n",
    "from keras.layers import Dense, Activation, Dropout, GRU"
   ]
  },
  {
   "cell_type": "markdown",
   "metadata": {},
   "source": [
    "# Configuramos las variables"
   ]
  },
  {
   "cell_type": "code",
   "execution_count": 2,
   "metadata": {},
   "outputs": [],
   "source": [
    "x_features = 4\n",
    "batch_size = 2000\n",
    "epochs = 6000\n",
    "train_perc=0.65\n",
    "dev_perc = 0.25\n",
    "test_perc = 0.10"
   ]
  },
  {
   "cell_type": "markdown",
   "metadata": {},
   "source": [
    "# Cargamos los datos iniciales"
   ]
  },
  {
   "cell_type": "code",
   "execution_count": 3,
   "metadata": {},
   "outputs": [
    {
     "data": {
      "text/plain": [
       "11600"
      ]
     },
     "execution_count": 3,
     "metadata": {},
     "output_type": "execute_result"
    }
   ],
   "source": [
    "data =pd.read_csv('Untitled.csv', usecols=['Payloads'])\n",
    "#with open('attacks.txt') as f:\n",
    "    #content = f.readlines()\n",
    "# you may also want to remove whitespace characters like `\\n` at the end of each line\n",
    "payloads = data['Payloads'].apply(lambda x: x[1:-1]).tolist()\n",
    "#[payloads.append(x.strip()[:-3]) for x in content]\n",
    "with open('sqlattacks.txt') as f:\n",
    "    content = f.readlines()\n",
    "[payloads.append(x.strip()) for x in content]\n",
    "payloads = pd.Series(payloads)\n",
    "payloads = payloads.sample(frac=1).reset_index(drop=True)\n",
    "payloads.size"
   ]
  },
  {
   "cell_type": "code",
   "execution_count": 4,
   "metadata": {},
   "outputs": [
    {
     "name": "stdout",
     "output_type": "stream",
     "text": [
      "Vocabulary length:  100\n",
      "Dataset length:  11600\n"
     ]
    }
   ],
   "source": [
    "import string\n",
    "vocabulary = string.printable\n",
    "def row_parse(row):\n",
    "  def char_parse(char):\n",
    "    return vocabulary.index(char)\n",
    "  return [char_parse(char) for char in row]\n",
    "\n",
    "ascii_rows= [row_parse(row) for row in payloads]\n",
    "print(\"Vocabulary length: \", len(vocabulary))\n",
    "print(\"Dataset length: \", len(ascii_rows))"
   ]
  },
  {
   "cell_type": "code",
   "execution_count": 5,
   "metadata": {},
   "outputs": [],
   "source": [
    "def reduce_dimension(row, x_features):\n",
    "  def create_new_row(index,char):\n",
    "    past_pos = x_features-1\n",
    "    new_row = [None for i in range(x_features+1)]\n",
    "    def fill_past():\n",
    "        if index > past_pos:\n",
    "            for i in range(past_pos*-1, 0, 1):\n",
    "                pos = index-i\n",
    "                if(pos >= 0):\n",
    "                    new_row[past_pos + i]= row[index+i]\n",
    "        else:\n",
    "            for i in range(x_features, 0 , -1):\n",
    "                if(index- i) >= 0:\n",
    "                    x =(index -i)+1\n",
    "                    new_row[past_pos-x] = row[index-x]\n",
    "    def fill_future():\n",
    "        if (index+1) < len(row):\n",
    "            new_row[-1] = row[index+1]\n",
    "                \n",
    "    fill_past()\n",
    "    new_row[past_pos] = char\n",
    "    fill_future()\n",
    "    return new_row\n",
    "  return [create_new_row(index,char) for index, char in enumerate(row)]\n",
    "#char_relationships\n"
   ]
  },
  {
   "cell_type": "code",
   "execution_count": 6,
   "metadata": {},
   "outputs": [
    {
     "name": "stdout",
     "output_type": "stream",
     "text": [
      "Hecho\n"
     ]
    }
   ],
   "source": [
    "def split_row(x, y, row):\n",
    "  def split_tuple(tuple):\n",
    "    x_zeros = np.zeros((x_features, 101))\n",
    "    y_zeros = np.zeros((101))\n",
    "    def getIndex(index):\n",
    "      return 100 if index == None else index\n",
    "    for i in range(x_features):\n",
    "        x_zeros[i][getIndex(tuple[i])] = 1\n",
    "    x.append(x_zeros)\n",
    "    y_zeros[getIndex(tuple[-1])] = 1\n",
    "    y.append(y_zeros)\n",
    "  [split_tuple(tuple) for tuple in row]\n",
    "print(\"Hecho\")"
   ]
  },
  {
   "cell_type": "code",
   "execution_count": 7,
   "metadata": {},
   "outputs": [],
   "source": [
    "def split_train_sets(x_features):\n",
    "    x = [];\n",
    "    y = [];\n",
    "    [split_row(x, y, char_relationship) for char_relationship in [reduce_dimension(row, x_features) for row in ascii_rows]]\n",
    "    print(len(x))\n",
    "    train_rows = int(len(x) * train_perc)\n",
    "    print(train_rows)\n",
    "\n",
    "    dev_rows = int(len(x) * dev_perc)\n",
    "    print(dev_rows)\n",
    "\n",
    "    test_rows = int(len(x) * test_perc)\n",
    "    print(test_rows)\n",
    "    x_train = np.array(x[train_rows-1:])\n",
    "    y_train = np.array(y[train_rows-1:])\n",
    "    x_dev = np.array(x[train_rows: (train_rows + dev_rows -1)])\n",
    "    y_dev = np.array(y[train_rows: (train_rows + dev_rows -1)])\n",
    "    x_test = np.array(x[:dev_rows])\n",
    "    y_test = np.array(y[:dev_rows])\n",
    "    return [x_train, y_train, x_dev, y_dev, x_test, y_test]"
   ]
  },
  {
   "cell_type": "code",
   "execution_count": 8,
   "metadata": {},
   "outputs": [],
   "source": [
    "class PlotLearning(keras.callbacks.Callback):\n",
    "    def on_train_begin(self, logs={}):\n",
    "        self.i = 0\n",
    "        self.x = []\n",
    "        self.losses = []\n",
    "        self.val_losses = []\n",
    "        self.acc = []\n",
    "        self.val_acc = []\n",
    "        self.fig = plt.figure()\n",
    "        \n",
    "        self.logs = []\n",
    "\n",
    "    def on_epoch_end(self, epoch, logs={}):\n",
    "        \n",
    "        self.logs.append(logs)\n",
    "        self.x.append(self.i)\n",
    "        self.losses.append(logs.get('loss'))\n",
    "        self.val_losses.append(logs.get('val_loss'))\n",
    "        self.acc.append(logs.get('acc'))\n",
    "        self.val_acc.append(logs.get('val_acc'))\n",
    "        self.i += 1\n",
    "        f, (ax1, ax2) = plt.subplots(1, 2, sharex=True)\n",
    "        \n",
    "        clear_output(wait=True)\n",
    "        \n",
    "        ax1.set_yscale('log')\n",
    "        ax1.plot(self.x, self.losses, label=\"loss\")\n",
    "        ax1.plot(self.x, self.val_losses, label=\"val_loss\")\n",
    "        ax1.legend()\n",
    "        \n",
    "        ax2.plot(self.x, self.acc, label=\"accuracy\")\n",
    "        ax2.plot(self.x, self.val_acc, label=\"validation accuracy\")\n",
    "        ax2.legend()\n",
    "        plt.savefig('{}.png'.format(file_name))\n",
    "        plt.show();\n",
    "plot = PlotLearning()"
   ]
  },
  {
   "cell_type": "code",
   "execution_count": null,
   "metadata": {},
   "outputs": [
    {
     "data": {
      "image/png": "[encoded data removed]",
      "text/plain": [
       "<matplotlib.figure.Figure at 0x7f30fb971eb8>"
      ]
     },
     "metadata": {},
     "output_type": "display_data"
    },
    {
     "name": "stdout",
     "output_type": "stream",
     "text": [
      "Epoch 1342/6000\n"
     ]
    }
   ],
   "source": [
    "#bottle_neck = 10\n",
    "#model.train_on_batch(x, y) and model.test_on_batch(x, y)\n",
    "for x_features in [4]:\n",
    "    print(\"=============== FEATURE =============\")\n",
    "    print(x_features)\n",
    "    [x_train, y_train, x_dev, y_dev, x_test, y_test] = split_train_sets(x_features)\n",
    "    for bottle_neck in [20]:\n",
    "        file_name = 'model_feat-{}_botneck-{}'.format(x_features,bottle_neck)\n",
    "        model = Sequential()\n",
    "        model.add(GRU(101, input_shape=(x_features, 101), return_sequences=False))\n",
    "        model.add(Dense(bottle_neck))\n",
    "        model.add(Dropout(0.2, input_shape=(bottle_neck,)))\n",
    "        model.add(Dense(101, activation='softmax'))\n",
    "        model.compile(loss='categorical_crossentropy', optimizer='adam', metrics=['accuracy'])\n",
    "        model.summary()\n",
    "        history=model.fit(x_train, y_train, epochs=epochs, batch_size=batch_size, verbose=2,callbacks=[plot], validation_data=(x_dev, y_dev))\n",
    "        print(history)\n",
    "        model.save('{}.h5'.format(file_name))\n",
    "        plt.savefig('{}.png'.format(file_name))"
   ]
  },
  {
   "cell_type": "heading",
   "metadata": {
    "collapsed": false
   },
   "level": 1,
   "source": [
    "\n"
   ]
  },
  {
   "cell_type": "markdown",
   "metadata": {},
   "source": [
    "Salvamos el modelo"
   ]
  },
  {
   "cell_type": "code",
   "execution_count": null,
   "metadata": {},
   "outputs": [],
   "source": [
    ""
   ]
  },
  {
   "cell_type": "code",
   "execution_count": null,
   "metadata": {},
   "outputs": [],
   "source": [
    "def to_ascii(row):\n",
    "    for i,elem in enumerate(row):\n",
    "        if elem == 1:\n",
    "            return vocabulary[i]"
   ]
  },
  {
   "cell_type": "code",
   "execution_count": null,
   "metadata": {},
   "outputs": [],
   "source": [
    "def transform_predict(y_predict):\n",
    "    index = np.argmax(y_predict)\n",
    "    if index == 100:\n",
    "        return None\n",
    "    return vocabulary[index]\n",
    "predict_chars=[transform_predict(y_predict) for y_predict in model.predict(x_train)]\n",
    "predict_texts = [[]]\n",
    "def build_text(predict_char):\n",
    "    if predict_char == None:\n",
    "        predict_texts.append([]);\n",
    "    else:\n",
    "        predict_texts[-1].append(predict_char)\n",
    "[build_text(predict_char) for predict_char in predict_chars]\n",
    "[''.join(predict_text) for predict_text in predict_texts]"
   ]
  },
  {
   "cell_type": "code",
   "execution_count": null,
   "metadata": {},
   "outputs": [],
   "source": [
    "predict_chars=[transform_predict(y_predict) for y_predict in model.predict(x_test)]\n",
    "predict_texts = [[]]\n",
    "[build_text(predict_char) for predict_char in predict_chars]\n",
    "[''.join(predict_text) for predict_text in predict_texts]"
   ]
  },
  {
   "cell_type": "markdown",
   "metadata": {},
   "source": [
    "# Ahora tenemos que hacer una función de evaluación que coja la media del coste"
   ]
  },
  {
   "cell_type": "markdown",
   "metadata": {},
   "source": [
    "Primero tenemos que descomponer un texto"
   ]
  },
  {
   "cell_type": "code",
   "execution_count": null,
   "metadata": {},
   "outputs": [],
   "source": [
    "#demo_text= \"' OR '1'='\"\n",
    "#demo_text=\"'\"\n",
    "#demo_text = \"Esto seguro que no es ataque\"\n",
    "#demo_text = \"AND 1=utl_inaddreget_host_address((SELECT DISTINCT(gSER)AME) FROM (SELECT DISTINCT(gSER)AME)  ROWNUM AS LIMIT=FRO\"\n",
    "demo_text = '\") AND ELT(4841=4841,6023) AND (\"BfsJ\" LIKE \"BfsJ\"'\n",
    "#demo_text = \"SELECT DISTINCT\"\n",
    "#demo_text = \"DISTINCT SELECT\"\n",
    "# Descomponemos el texto\n",
    "elems = [reduce_dimension(row_parse(demo_text))]\n",
    "x_demo = []\n",
    "y_demo = []\n",
    "[split_row(x_demo, y_demo, elem) for elem in elems]"
   ]
  },
  {
   "cell_type": "code",
   "execution_count": null,
   "metadata": {},
   "outputs": [],
   "source": [
    "predict_chars=[transform_predict(y_predict) for y_predict in model.predict(np.array(x_demo))]\n",
    "print(predict_chars)\n",
    "predict_texts = [[]]\n",
    "[build_text(predict_char) for predict_char in predict_chars]\n",
    "[''.join(predict_text) for predict_text in predict_texts]"
   ]
  },
  {
   "cell_type": "code",
   "execution_count": null,
   "metadata": {},
   "outputs": [],
   "source": [
    "olor=[[demo_text[i], model.evaluate(np.expand_dims(x_demo[i], axis=0), np.expand_dims(y_demo[i], axis=0),batch_size=batch_size, verbose=2)] for i in range(len(demo_text))]\n",
    "[elem for elem in olor]"
   ]
  },
  {
   "cell_type": "code",
   "execution_count": null,
   "metadata": {},
   "outputs": [],
   "source": [
    "[model.evaluate(np.expand_dims(x_demo[0], axis=0), np.expand_dims(y_demo[0], axis=0))\n",
    "demo_text\n"
   ]
  },
  {
   "cell_type": "code",
   "execution_count": null,
   "metadata": {},
   "outputs": [],
   "source": [
    "[[model.evaluate(np.expand_dims(x_demo[i], axis=0), np.expand_dims(y_demo[i], axis=0),\n",
    "                                              batch_size=batch_size, verbose=2)] for i in range(len(x_demo))]"
   ]
  },
  {
   "cell_type": "code",
   "execution_count": null,
   "metadata": {},
   "outputs": [],
   "source": [
    "print(\"Cuanto huele en %\")\n",
    "cuanto = 0\n",
    "for elem in olor:\n",
    "    cuanto+= elem[1][1]\n",
    "print(cuanto/len(olor))"
   ]
  },
  {
   "cell_type": "code",
   "execution_count": null,
   "metadata": {},
   "outputs": [],
   "source": []
  }
 ],
 "metadata": {
  "kernelspec": {
   "display_name": "Python 3",
   "language": "python",
   "name": "python3"
  },
  "language_info": {
   "codemirror_mode": {
    "name": "ipython",
    "version": 3
   },
   "file_extension": ".py",
   "mimetype": "text/x-python",
   "name": "python",
   "nbconvert_exporter": "python",
   "pygments_lexer": "ipython3",
   "version": "3.6.3"
  }
 },
 "nbformat": 4,
 "nbformat_minor": 2
}
